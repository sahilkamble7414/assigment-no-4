{
 "cells": [
  {
   "cell_type": "markdown",
   "id": "8f610291-28db-4095-be66-358afe989ed9",
   "metadata": {},
   "source": [
    "#que 1)What are the five key concepts of Object-Oriented Programming (OOP)?\n",
    "1)CLASS:-The class can be defined as a collection of objects. It is a logical entity that has some specific attributes and methods\n",
    "2)OBJECT:-the object is an variable that cantain data & function that can use to manipulate tha data.\n",
    "3)Encapsulation: Encapsulation is the concept of bundling the attributes and methods that operate on the data into a single class.\n",
    "4)Inheritance: Inheritance is a mechanism where a class (child class) can inherit attributes and methods from parent class. This promotes code reuse and helps to create a hierarchy of classes.\n",
    "5)Polymorphism: Polymorphism allows objects of different classes to be treated as objects of a common superclass. It enables methods to be used in different ways, typically through method overloading and method overriding .\n"
   ]
  },
  {
   "cell_type": "code",
   "execution_count": 27,
   "id": "9c9140a1-ec79-4436-b7af-3cba2565717f",
   "metadata": {},
   "outputs": [
    {
     "name": "stdout",
     "output_type": "stream",
     "text": [
      "Car Info: 2013 Toyota fortuner\n"
     ]
    }
   ],
   "source": [
    "#que2 Write a Python class for a `Car` with attributes for `make`, `model`, and `year`. Include a method to display the car's information.\n",
    "class Car:\n",
    "    def __init__(self, make, model, year):\n",
    "        self.make = make\n",
    "        self.model = model\n",
    "        self.year = year\n",
    "\n",
    "    def display_info(self):\n",
    "        print(f\"Car Info: {self.year} {self.make} {self.model}\")\n",
    "\n",
    "\n",
    "my_car = Car(\"Toyota\", \"fortuner\", 2013)\n",
    "my_car.display_info()\n"
   ]
  },
  {
   "cell_type": "code",
   "execution_count": 29,
   "id": "8a88477c-6abf-4ed9-a976-8b4fe003fc0b",
   "metadata": {},
   "outputs": [
    {
     "name": "stdout",
     "output_type": "stream",
     "text": [
      "Car Info: 2013 Toyota fortuner\n"
     ]
    }
   ],
   "source": [
    "#que3 Explain the difference between instance methods and class methods. Provide an example of each.\n",
    "# 1)Instance methods are methods that operate on an instance of the class. They can access and modify instance attributes.\n",
    "#2)The first argument of an instance method is always self, which refers to the instance of the class.\n",
    "#1)Class methods operate on the class itself rather than on an instance. \n",
    "#2)They typically work with class-level data or perform operations related to the class as a whole.\n",
    "class Car:\n",
    "    def __init__(self, make, model, year):\n",
    "        self.make = make\n",
    "        self.model = model\n",
    "        self.year = year\n",
    "\n",
    "    def display_info(self):\n",
    "        print(f\"Car Info: {self.year} {self.make} {self.model}\")\n",
    "\n",
    "\n",
    "my_car = Car(\"Toyota\", \"fortuner\", 2013)\n",
    "my_car.display_info()\n"
   ]
  },
  {
   "cell_type": "code",
   "execution_count": 39,
   "id": "1b73b344-3f7e-4de4-ad07-d30c6ccffde9",
   "metadata": {},
   "outputs": [
    {
     "name": "stdout",
     "output_type": "stream",
     "text": [
      "Hello, my name is Alice and I am 18 years old.\n",
      "6\n",
      "100\n"
     ]
    }
   ],
   "source": [
    "#que 4. How does Python implement method overloading? Give an example\n",
    "#Python does not directly support method overloading. However, Python achieves similar behavior through techniques like:\n",
    "#1)Default Arguments: You can use default argument values to simulate method overloading..\n",
    "class Person:\n",
    "    def __init__(self, name, age=18):\n",
    "        self.name = name\n",
    "        self.age = age\n",
    "\n",
    "    def greet(self):\n",
    "        print(f\"Hello, my name is {self.name} and I am {self.age} years old.\")\n",
    "person1 = Person(\"Alice\")\n",
    "person1.greet()\n",
    "\n",
    "#2)Variable-Length Arguments: By using *args and **kwargs, you can accept any number of positional or keyword arguments.\n",
    "def sum_numbers(*args):\n",
    "    total = 0\n",
    "    for num in args:\n",
    "        total += num\n",
    "    return total\n",
    "\n",
    "print(sum_numbers(1, 2, 3))\n",
    "print(sum_numbers(10, 20, 30, 40))\n",
    "#3)Type Checking: Manually checking the types of arguments and then varying behavior accordingly\n",
    "\n"
   ]
  },
  {
   "cell_type": "code",
   "execution_count": null,
   "id": "8e2256c0-b961-4ccc-9654-47707595ec02",
   "metadata": {},
   "outputs": [],
   "source": [
    "# que 5 What are the three types of access modifiers in Python? How are they denoted?\n",
    "#Public: Public members (attributes or methods) are accessible from anywhere, both inside and outside of the class. In Python, all members are public by default.\n",
    "#Denoted by: No special notation.\n",
    "#Protected:Protected members are intended to be used within the class and its subclasses. These members can still be accessed from outside the class (because Python doesn’t enforce strict restrictions), but by convention, they are considered protected.\n",
    "#Denoted by: A single leading underscore (_attribute or _method).\n",
    "#Private:Private members are intended to be accessible only within the class itself. They are not accessible outside the class, including by subclasses. Python uses name mangling to achieve this (i.e., the name is internally changed to include the class name).\n",
    "#Denoted by: A double leading underscore (__attribute or __method)."
   ]
  },
  {
   "cell_type": "code",
   "execution_count": 41,
   "id": "3b5ae73b-ddaf-42c7-aa59-de3336d8deed",
   "metadata": {},
   "outputs": [
    {
     "name": "stdout",
     "output_type": "stream",
     "text": [
      "Mammals can give direct birth.\n",
      "Winged animals can flap.\n"
     ]
    }
   ],
   "source": [
    "#que6 Describe the five types of inheritance in Python. Provide a simple example of multiple inheritance\n",
    "#1)Single Inheritance:In single inheritance, a child class inherits from one parent class.\n",
    "#2)Multiple Inheritance:In multiple inheritance, a child class inherits from more than one parent class. The child class can access the attributes and methods of all parent classes\n",
    "#3) Multilevel Inheritance:In multilevel inheritance, a class inherits from a parent class, which itself is a child of another class, forming a chain.\n",
    "#4)Hierarchical Inheritance:In hierarchical inheritance, multiple child classes inherit from the same parent class.\n",
    "#5)Hybrid Inheritance:Hybrid inheritance is a combination of two or more types of inheritance. It usually combines hierarchical and multiple inheritance.\n",
    "#ex.\n",
    "class Mammal:\n",
    "    def mammal_info(self):\n",
    "        print(\"Mammals can give direct birth.\")\n",
    "\n",
    "class WingedAnimal:\n",
    "    def winged_animal_info(self):\n",
    "        print(\"Winged animals can flap.\")\n",
    "\n",
    "class Bat(Mammal, WingedAnimal):\n",
    "    pass\n",
    "\n",
    "b1 = Bat()\n",
    "\n",
    "b1.mammal_info()\n",
    "b1.winged_animal_info()\n",
    "\n",
    "\n"
   ]
  },
  {
   "cell_type": "code",
   "execution_count": 63,
   "id": "a9c3d1bb-1302-43cf-83e4-2c8fdb4a5d46",
   "metadata": {},
   "outputs": [
    {
     "name": "stdout",
     "output_type": "stream",
     "text": [
      "Method in B\n",
      "(<class '__main__.B'>, <class '__main__.A'>, <class 'object'>)\n",
      "[<class '__main__.B'>, <class '__main__.A'>, <class 'object'>]\n"
     ]
    }
   ],
   "source": [
    "#que 7 Describe the five types of inheritance in Python. Provide a simple example of multiple inheritance.Python program showing how MRO works\n",
    "#Method Resolution Order(MRO):-it denotes the way a programming language resolves a method or attribute. Python supports classes inheriting from other classes. The class being inherited is called the Parent or Superclass, while the class that inherits is called the Child or Subclass\n",
    "class A:\n",
    "    def method(self):\n",
    "        print(\"Method in A\")\n",
    "\n",
    "class B(A):\n",
    "    def method(self):\n",
    "        print(\"Method in B\")\n",
    "        print(B.__mro__)  \n",
    "        print(B.mro())    \n",
    "\n",
    "d = B()\n",
    "d.method()"
   ]
  },
  {
   "cell_type": "code",
   "execution_count": 106,
   "id": "6aad305b-8603-49fd-b33f-833149a728bb",
   "metadata": {},
   "outputs": [],
   "source": [
    "# que 10 Implement encapsulation in a `BankAccount` class with private attributes for `balance` and`account_number`. Include methods for deposit, withdrawal, and balance inquiry.\n",
    "class Bank_Account: \n",
    "    \n",
    "    def __init__(self, balance):\n",
    "        self.__balance = balance\n",
    "        \n",
    "    def deposit(self, amount): #amount is new deposition\n",
    "        self.__balance = self.__balance + amount\n",
    "    \n",
    "    def withdraw(self, amount):\n",
    "        if self.__balance >= amount:\n",
    "            self.__balance = self.__balance - amount\n",
    "            return True\n",
    "        else:\n",
    "            return False\n",
    "        \n",
    "    def get_balance(self):\n",
    "        return self.__balance"
   ]
  },
  {
   "cell_type": "code",
   "execution_count": 108,
   "id": "ab3f65b7-3c61-4008-88a0-05b5d516ba2c",
   "metadata": {},
   "outputs": [
    {
     "data": {
      "text/plain": [
       "1000"
      ]
     },
     "execution_count": 108,
     "metadata": {},
     "output_type": "execute_result"
    }
   ],
   "source": [
    "acc1 = Bank(1000)\n",
    "acc1.get_balance()\n"
   ]
  },
  {
   "cell_type": "code",
   "execution_count": 110,
   "id": "9b09d084-00fe-46bd-b4f1-db467e5f8062",
   "metadata": {},
   "outputs": [
    {
     "data": {
      "text/plain": [
       "500"
      ]
     },
     "execution_count": 110,
     "metadata": {},
     "output_type": "execute_result"
    }
   ],
   "source": [
    "acc1.withdraw(500)\n",
    "acc1.get_balance()"
   ]
  },
  {
   "cell_type": "code",
   "execution_count": 112,
   "id": "75547608-34a2-4871-ab8f-1b2be1641f22",
   "metadata": {},
   "outputs": [
    {
     "data": {
      "text/plain": [
       "1000"
      ]
     },
     "execution_count": 112,
     "metadata": {},
     "output_type": "execute_result"
    }
   ],
   "source": [
    "acc1.deposit(500)\n",
    "acc1.get_balance()"
   ]
  },
  {
   "cell_type": "code",
   "execution_count": 32,
   "id": "5fb390f7-ace8-4642-8bc0-2b90d414ce30",
   "metadata": {},
   "outputs": [
    {
     "name": "stdout",
     "output_type": "stream",
     "text": [
      "[<class '__main__.D'>, <class '__main__.B'>, <class '__main__.C'>, <class '__main__.A'>, <class 'object'>]\n"
     ]
    }
   ],
   "source": [
    "#que 13 Explain the concept of the Diamond Problem in multiple inheritance. How does Python resolve it?\n",
    "#The Diamond Problem occurs when multiple inheritance creates ambiguity regarding which parent class's method should be inherited.Python resolves this problem using MRO and the C3 Linearization Algorithm, which ensures a consistent, non-repetitive order of method resolution.\n",
    "class A:\n",
    "    def method(self):\n",
    "        print(\"A\")\n",
    "\n",
    "class B(A):\n",
    "    def method(self):\n",
    "        print(\"B\")\n",
    "\n",
    "class C(A):\n",
    "    def method(self):\n",
    "        print(\"C\")\n",
    "\n",
    "class D(B, C):\n",
    "    pass\n",
    "\n",
    "\n",
    "print(D.mro())\n"
   ]
  },
  {
   "cell_type": "code",
   "execution_count": 36,
   "id": "ebe2f97b-9414-4592-917c-124936a8321b",
   "metadata": {},
   "outputs": [
    {
     "name": "stdout",
     "output_type": "stream",
     "text": [
      "0\n"
     ]
    }
   ],
   "source": [
    "#To track the number of instances created from a class, you can use a class variable and a class method.\n",
    "#The class variable will store the count, and the class method will return the value. \n",
    "class InstanceCounter:\n",
    "    instance_count = 0  # Class variable to track number of instances\n",
    "    \n",
    "    def _init_(self):\n",
    "        # Increment the instance count each time a new instance is created\n",
    "        InstanceCounter.instance_count += 1\n",
    "    \n",
    "    @classmethod\n",
    "    def get_instance_count(cls):\n",
    "        # Class method to return the current instance count\n",
    "        return cls.instance_count\n",
    "\n",
    "# Example usage:\n",
    "obj1 = InstanceCounter()\n",
    "obj2 = InstanceCounter()\n",
    "obj3 = InstanceCounter()\n",
    "\n",
    "print(InstanceCounter.get_instance_count())  # Output: 3"
   ]
  },
  {
   "cell_type": "code",
   "execution_count": 44,
   "id": "129406e1-ab9f-4580-9012-1ee7c5f31825",
   "metadata": {},
   "outputs": [
    {
     "name": "stdout",
     "output_type": "stream",
     "text": [
      "3\n"
     ]
    }
   ],
   "source": [
    "#que 14. Write a class method that keeps track of the number of instances created from a class.\n",
    "#To track the number of instances created from a class, you can use a class variable and a class method.\n",
    "#The class variable will store the count, and the class method will return the value.\n",
    "class InstanceTracker:\n",
    "    instance_count = 0\n",
    "    \n",
    "    def __init__(self):\n",
    "        \n",
    "        InstanceTracker.instance_count += 1\n",
    " \n",
    "    @classmethod\n",
    "    def get_instance_count(cls):\n",
    "        return cls.instance_count\n",
    "\n",
    "obj1 = InstanceTracker()\n",
    "obj2 = InstanceTracker()\n",
    "obj3 = InstanceTracker()\n",
    "\n",
    "print(InstanceTracker.get_instance_count())  # Output: 3\n"
   ]
  },
  {
   "cell_type": "code",
   "execution_count": 46,
   "id": "62395ba4-f0db-4feb-b4a9-29f1c1b372e1",
   "metadata": {},
   "outputs": [
    {
     "name": "stdout",
     "output_type": "stream",
     "text": [
      "True\n",
      "False\n",
      "False\n",
      "True\n"
     ]
    }
   ],
   "source": [
    "#15. Implement a static method in a class that checks if a given year is a leap year.\n",
    "#To implement a static method that checks if a given year is a leap year, we can define a method using the @staticmethod decorator. A leap year is:\n",
    "#Divisible by 4\n",
    "#But not divisible by 100, unless it is also divisible by 400.\n",
    "class YearChecker:\n",
    "    @staticmethod\n",
    "    def is_leap_year(year):\n",
    "        # Leap year logic\n",
    "        if (year % 4 == 0 and year % 100 != 0) or (year % 400 == 0):\n",
    "            return True\n",
    "        return False\n",
    "\n",
    "\n",
    "print(YearChecker.is_leap_year(2020))  \n",
    "print(YearChecker.is_leap_year(2021))  \n",
    "print(YearChecker.is_leap_year(1900))  \n",
    "print(YearChecker.is_leap_year(2000))  "
   ]
  },
  {
   "cell_type": "code",
   "execution_count": null,
   "id": "f51c1ea5-7295-4dcd-ab17-d40db4475c76",
   "metadata": {},
   "outputs": [],
   "source": []
  }
 ],
 "metadata": {
  "kernelspec": {
   "display_name": "Python 3 (ipykernel)",
   "language": "python",
   "name": "python3"
  },
  "language_info": {
   "codemirror_mode": {
    "name": "ipython",
    "version": 3
   },
   "file_extension": ".py",
   "mimetype": "text/x-python",
   "name": "python",
   "nbconvert_exporter": "python",
   "pygments_lexer": "ipython3",
   "version": "3.12.4"
  }
 },
 "nbformat": 4,
 "nbformat_minor": 5
}
